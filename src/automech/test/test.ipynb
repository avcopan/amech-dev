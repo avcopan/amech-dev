{
 "cells": [
  {
   "cell_type": "code",
   "execution_count": 1,
   "metadata": {},
   "outputs": [],
   "source": [
    "from pathlib import Path\n",
    "\n",
    "import automech\n",
    "\n",
    "DATA_PATH = Path(\".\") / \"data\"\n",
    "\n",
    "mech_file_name = \"syngas.dat\"\n",
    "spec_file_name = \"syngas_species.csv\""
   ]
  },
  {
   "cell_type": "code",
   "execution_count": 2,
   "metadata": {},
   "outputs": [
    {
     "data": {
      "application/vnd.jupyter.widget-view+json": {
       "model_id": "462977a4a71e424b8da11e88e9b3944e",
       "version_major": 2,
       "version_minor": 0
      },
      "text/plain": [
       "  0%|          | 0/18 [00:00<?, ?it/s]"
      ]
     },
     "metadata": {},
     "output_type": "display_data"
    },
    {
     "data": {
      "text/plain": [
       "Mechanism(reactions=shape: (78, 5)\n",
       "┌───────────────────────┬──────────────────────┬───────────────┬────────────┬──────────────────────┐\n",
       "│ reactants             ┆ products             ┆ formula       ┆ reversible ┆ rate                 │\n",
       "│ ---                   ┆ ---                  ┆ ---           ┆ ---        ┆ ---                  │\n",
       "│ list[str]             ┆ list[str]            ┆ struct[3]     ┆ bool       ┆ struct[17]           │\n",
       "╞═══════════════════════╪══════════════════════╪═══════════════╪════════════╪══════════════════════╡\n",
       "│ [\"H2(2)\"]             ┆ [\"H(4)\", \"H(4)\"]     ┆ {2,null,null} ┆ true       ┆ {2,{1.0,12.02,2.55,1 │\n",
       "│                       ┆                      ┆               ┆            ┆ .01,1.95,n…          │\n",
       "│ [\"O(5)\", \"O(5)\"]      ┆ [\"O2(3)\"]            ┆ {null,2,null} ┆ true       ┆ {3,{1.0,12.0,2.5,nul │\n",
       "│                       ┆                      ┆               ┆            ┆ l,1.9,null…          │\n",
       "│ [\"O2(3)\", \"H(4)\"]     ┆ [\"HO2(10)\"]          ┆ {1,2,null}    ┆ true       ┆ {3,{1.0,15.81,1.87,0 │\n",
       "│                       ┆                      ┆               ┆            ┆ .96,1.9,nu…          │\n",
       "│ [\"H(4)\", \"HO2(10)\"]   ┆ [\"H2(2)\", \"O2(3)\"]   ┆ {2,2,null}    ┆ true       ┆ {2,{null,null,null,n │\n",
       "│                       ┆                      ┆               ┆            ┆ ull,null,n…          │\n",
       "│ [\"CO(1)\", \"O(5)\"]     ┆ [\"CO2(12)\"]          ┆ {null,2,1}    ┆ true       ┆ {3,{1.0,12.0,null,nu │\n",
       "│                       ┆                      ┆               ┆            ┆ ll,1.9,nul…          │\n",
       "│ …                     ┆ …                    ┆ …             ┆ …          ┆ …                    │\n",
       "│ [\"H2O2(11)\",          ┆ [\"HO2(10)\",          ┆ {3,5,1}       ┆ true       ┆ {2,{null,null,null,n │\n",
       "│ \"CHO3(61)\"]           ┆ \"CH2O3(82)\"]         ┆               ┆            ┆ ull,null,n…          │\n",
       "│ [\"CHO2(38)\",          ┆ [\"CO2(12)\",          ┆ {2,5,2}       ┆ true       ┆ {2,{null,null,null,n │\n",
       "│ \"CHO3(61)\"]           ┆ \"CH2O3(82)\"]         ┆               ┆            ┆ ull,null,n…          │\n",
       "│ [\"HOCO(39)\",          ┆ [\"CO2(12)\",          ┆ {2,5,2}       ┆ true       ┆ {2,{null,null,null,n │\n",
       "│ \"CHO3(61)\"]           ┆ \"CH2O3(82)\"]         ┆               ┆            ┆ ull,null,n…          │\n",
       "│ [\"CH2O3(82)\"]         ┆ [\"OH(6)\",            ┆ {2,3,1}       ┆ true       ┆ {2,{1.0,null,null,nu │\n",
       "│                       ┆ \"HOCO(39)\"]          ┆               ┆            ┆ ll,null,nu…          │\n",
       "│ [\"CH2O3(82)\"]         ┆ [\"H(4)\", \"CHO3(61)\"] ┆ {2,3,1}       ┆ true       ┆ {2,{1.0,null,null,nu │\n",
       "│                       ┆                      ┆               ┆            ┆ ll,null,nu…          │\n",
       "└───────────────────────┴──────────────────────┴───────────────┴────────────┴──────────────────────┘, species=shape: (18, 7)\n",
       "┌───────────┬────────────┬───────────────────┬──────┬────────┬──────────────────┬──────────────────┐\n",
       "│ name      ┆ smiles     ┆ amchi             ┆ spin ┆ charge ┆ formula          ┆ therm            │\n",
       "│ ---       ┆ ---        ┆ ---               ┆ ---  ┆ ---    ┆ ---              ┆ ---              │\n",
       "│ str       ┆ str        ┆ str               ┆ i64  ┆ i64    ┆ struct[5]        ┆ struct[8]        │\n",
       "╞═══════════╪════════════╪═══════════════════╪══════╪════════╪══════════════════╪══════════════════╡\n",
       "│ N2        ┆ N#N        ┆ AMChI=1/N2/c1-2   ┆ 0    ┆ 0      ┆ {2,null,null,nul ┆ {200.0,6000.0,{2 │\n",
       "│           ┆            ┆                   ┆      ┆        ┆ l,null}          ┆ ,null,null,nul…  │\n",
       "│ Ne        ┆ [Ne]       ┆ AMChI=1/Ne        ┆ 0    ┆ 0      ┆ {null,1,null,nul ┆ {200.0,6000.0,{n │\n",
       "│           ┆            ┆                   ┆      ┆        ┆ l,null}          ┆ ull,1,null,nul…  │\n",
       "│ CO(1)     ┆ [C-]#[O+]  ┆ AMChI=1/CO/c1-2   ┆ 0    ┆ 0      ┆ {null,null,1,1,n ┆ {200.0,6000.0,{n │\n",
       "│           ┆            ┆                   ┆      ┆        ┆ ull}             ┆ ull,null,1,1,n…  │\n",
       "│ H2(2)     ┆ [H][H]     ┆ AMChI=1/H2/h1H    ┆ 0    ┆ 0      ┆ {null,null,null, ┆ {100.0,5000.0,{n │\n",
       "│           ┆            ┆                   ┆      ┆        ┆ null,2}          ┆ ull,null,null,…  │\n",
       "│ O2(3)     ┆ [O][O]     ┆ AMChI=1/O2/c1-2   ┆ 2    ┆ 0      ┆ {null,null,null, ┆ {100.0,5000.0,{n │\n",
       "│           ┆            ┆                   ┆      ┆        ┆ 2,null}          ┆ ull,null,null,…  │\n",
       "│ …         ┆ …          ┆ …                 ┆ …    ┆ …      ┆ …                ┆ …                │\n",
       "│ HOCO(39)  ┆ O[C]=O     ┆ AMChI=1/CHO2/c2-1 ┆ 1    ┆ 0      ┆ {null,null,1,2,1 ┆ {200.0,6000.0,{n │\n",
       "│           ┆            ┆ -3/h3H            ┆      ┆        ┆ }                ┆ ull,null,1,2,1…  │\n",
       "│ CHO3(61)  ┆ OC(=O)[O]  ┆ AMChI=1/CHO3/c2-1 ┆ 1    ┆ 0      ┆ {null,null,1,3,1 ┆ {100.0,5000.0,{n │\n",
       "│           ┆            ┆ (3)4/h4H          ┆      ┆        ┆ }                ┆ ull,null,1,3,1…  │\n",
       "│ CHO2(38)  ┆ [O]C=O     ┆ AMChI=1/CHO2/c2-1 ┆ 1    ┆ 0      ┆ {null,null,1,2,1 ┆ {100.0,5000.0,{n │\n",
       "│           ┆            ┆ -3/h1H            ┆      ┆        ┆ }                ┆ ull,null,1,2,1…  │\n",
       "│ CHO4(44)  ┆ OOC(=O)[O] ┆ AMChI=1/CHO4/c2-1 ┆ 1    ┆ 0      ┆ {null,null,1,4,1 ┆ {100.0,5000.0,{n │\n",
       "│           ┆            ┆ (3)5-4/h4H        ┆      ┆        ┆ }                ┆ ull,null,1,4,1…  │\n",
       "│ CH2O3(82) ┆ OC(=O)O    ┆ AMChI=1/CH2O3/c2- ┆ 0    ┆ 0      ┆ {null,null,1,3,2 ┆ {100.0,5000.0,{n │\n",
       "│           ┆            ┆ 1(3)4/h3-4H       ┆      ┆        ┆ }                ┆ ull,null,1,3,2…  │\n",
       "└───────────┴────────────┴───────────────────┴──────┴────────┴──────────────────┴──────────────────┘, thermo_temps=None)"
      ]
     },
     "execution_count": 2,
     "metadata": {},
     "output_type": "execute_result"
    }
   ],
   "source": [
    "mech_path = DATA_PATH / mech_file_name\n",
    "spec_path = DATA_PATH / spec_file_name\n",
    "mech = automech.io.mechanalyzer.read.mechanism(mech_path, spec_path)\n",
    "mech"
   ]
  },
  {
   "cell_type": "code",
   "execution_count": 3,
   "metadata": {},
   "outputs": [
    {
     "name": "stdout",
     "output_type": "stream",
     "text": [
      "{'name': 'N2', 'therm': {'T_min': 200.0, 'T_max': 6000.0, 'formula': {'N': 2, 'Ne': None, 'C': None, 'O': None, 'H': None}, 'charge': 0, 'T_mid': 1000.0, 'coeffs_low': [3.53101, -0.000123661, -5.02999e-07, 2.43531e-09, -1.40881e-12, -1046.98, 2.96747], 'coeffs_high': [2.95258, 0.0013969, -4.92632e-07, 7.8601e-11, -4.60755e-15, -923.949, 5.87189], 'type': 'nasa7'}}\n",
      "{'name': 'Ne', 'therm': {'T_min': 200.0, 'T_max': 6000.0, 'formula': {'N': None, 'Ne': 1, 'C': None, 'O': None, 'H': None}, 'charge': 0, 'T_mid': 1000.0, 'coeffs_low': [2.5, 0.0, 0.0, 0.0, 0.0, -745.375, 3.35532], 'coeffs_high': [2.5, 0.0, 0.0, 0.0, 0.0, -745.375, 3.35532], 'type': 'nasa7'}}\n",
      "{'name': 'CO(1)', 'therm': {'T_min': 200.0, 'T_max': 6000.0, 'formula': {'N': None, 'Ne': None, 'C': 1, 'O': 1, 'H': None}, 'charge': 0, 'T_mid': 1000.0, 'coeffs_low': [3.57953, -0.000610354, 1.01681e-06, 9.07006e-10, -9.04424e-13, -14344.1, 3.50841], 'coeffs_high': [3.04849, 0.00135173, -4.85794e-07, 7.88536e-11, -4.69807e-15, -14266.1, 6.0171], 'type': 'nasa7'}}\n",
      "{'name': 'H2(2)', 'therm': {'T_min': 100.0, 'T_max': 5000.0, 'formula': {'N': None, 'Ne': None, 'C': None, 'O': None, 'H': 2}, 'charge': 0, 'T_mid': 1959.08, 'coeffs_low': [3.43536428, 0.000212708915, -2.78621781e-07, 3.40264607e-10, -7.76025661e-14, -1031.35985, -3.90841796], 'coeffs_high': [2.78814852, 0.000587663436, 1.58999886e-07, -5.52717891e-11, 4.3429558e-15, -596.134054, 0.112835287], 'type': 'nasa7'}}\n",
      "{'name': 'O2(3)', 'therm': {'T_min': 100.0, 'T_max': 5000.0, 'formula': {'N': None, 'Ne': None, 'C': None, 'O': 2, 'H': None}, 'charge': 0, 'T_mid': 1074.55, 'coeffs_low': [3.53732243, -0.00121571647, 5.31620251e-06, -4.89446431e-09, 1.45846257e-12, -1038.58849, 4.68368183], 'coeffs_high': [3.15382081, 0.0016780437, -7.69974233e-07, 1.51275461e-10, -1.08782413e-14, -1040.81728, 6.1675583], 'type': 'nasa7'}}\n",
      "{'name': 'H(4)', 'therm': {'T_min': 100.0, 'T_max': 5000.0, 'formula': {'N': None, 'Ne': None, 'C': None, 'O': None, 'H': 1}, 'charge': 0, 'T_mid': 2121.2, 'coeffs_low': [2.5, 1.37382135e-15, -2.66902032e-18, 1.75563256e-21, -3.60841378e-25, 25474.2178, -0.444972896], 'coeffs_high': [2.5, 3.04114587e-14, -1.54210734e-17, 3.31770777e-21, -2.56694325e-25, 25474.2178, -0.444972896], 'type': 'nasa7'}}\n",
      "{'name': 'O(5)', 'therm': {'T_min': 100.0, 'T_max': 5000.0, 'formula': {'N': None, 'Ne': None, 'C': None, 'O': 1, 'H': None}, 'charge': 0, 'T_mid': 2121.2, 'coeffs_low': [2.5, 1.37382135e-15, -2.66902032e-18, 1.75563256e-21, -3.60841378e-25, 29230.2441, 4.09104286], 'coeffs_high': [2.5, 3.04114587e-14, -1.54210734e-17, 3.31770777e-21, -2.56694325e-25, 29230.2441, 4.09104286], 'type': 'nasa7'}}\n",
      "{'name': 'HO2(10)', 'therm': {'T_min': 200.0, 'T_max': 5000.0, 'formula': {'N': None, 'Ne': None, 'C': None, 'O': 2, 'H': 1}, 'charge': 0, 'T_mid': 1000.0, 'coeffs_low': [4.3018, -0.00474912, 2.11583e-05, -2.42764e-08, 9.29225e-12, 264.018, 3.71666], 'coeffs_high': [4.17229, 0.00188118, -3.46277e-07, 1.94658e-11, 1.76257e-16, 31.0207, 2.95768], 'type': 'nasa7'}}\n",
      "{'name': 'CO2(12)', 'therm': {'T_min': 200.0, 'T_max': 6000.0, 'formula': {'N': None, 'Ne': None, 'C': 1, 'O': 2, 'H': None}, 'charge': 0, 'T_mid': 1000.0, 'coeffs_low': [2.35681, 0.00898413, -7.12206e-06, 2.4573e-09, -1.42885e-13, -48372.0, 9.9009], 'coeffs_high': [4.63651, 0.00274146, -9.95898e-07, 1.60387e-10, -9.16199e-15, -49024.9, -1.9349], 'type': 'nasa7'}}\n",
      "{'name': 'OH(6)', 'therm': {'T_min': 100.0, 'T_max': 5000.0, 'formula': {'N': None, 'Ne': None, 'C': None, 'O': 1, 'H': 1}, 'charge': 0, 'T_mid': 1145.75, 'coeffs_low': [3.51456792, 2.9278695e-05, -5.32167684e-07, 1.01949538e-09, -3.85947129e-13, 3414.2542, 2.10434926], 'coeffs_high': [3.07194067, 0.000604014297, -1.39775153e-08, -2.13447882e-11, 2.48067106e-15, 3579.38638, 4.57799517], 'type': 'nasa7'}}\n",
      "{'name': 'H2O(7)', 'therm': {'T_min': 100.0, 'T_max': 5000.0, 'formula': {'N': None, 'Ne': None, 'C': None, 'O': 1, 'H': 2}, 'charge': 0, 'T_mid': 1130.24, 'coeffs_low': [4.05763581, -0.000787935554, 2.90877394e-06, -1.47518743e-09, 2.12842489e-13, -30281.5866, -0.311363963], 'coeffs_high': [2.84325068, 0.00275108509, -7.81031288e-07, 1.07243594e-10, -5.79391875e-15, -29958.6129, 5.91041861], 'type': 'nasa7'}}\n",
      "{'name': 'HCO(13)', 'therm': {'T_min': 200.0, 'T_max': 6000.0, 'formula': {'N': None, 'Ne': None, 'C': 1, 'O': 1, 'H': 1}, 'charge': 0, 'T_mid': 1000.0, 'coeffs_low': [4.23755, -0.00332075, 1.4003e-05, -1.3424e-08, 4.37416e-12, 3872.41, 3.30835], 'coeffs_high': [3.92002, 0.00252279, -6.71004e-07, 1.05616e-10, -7.43798e-15, 3653.43, 3.58077], 'type': 'nasa7'}}\n",
      "{'name': 'H2O2(11)', 'therm': {'T_min': 200.0, 'T_max': 6000.0, 'formula': {'N': None, 'Ne': None, 'C': None, 'O': 2, 'H': 2}, 'charge': 0, 'T_mid': 1000.0, 'coeffs_low': [4.31515, -0.000847391, 1.76404e-05, -2.26763e-08, 9.0895e-12, -17706.7, 3.27373], 'coeffs_high': [4.57977, 0.00405326, -1.29845e-06, 1.98211e-10, -1.13969e-14, -18007.2, 0.664971], 'type': 'nasa7'}}\n",
      "{'name': 'HOCO(39)', 'therm': {'T_min': 200.0, 'T_max': 6000.0, 'formula': {'N': None, 'Ne': None, 'C': 1, 'O': 2, 'H': 1}, 'charge': 0, 'T_mid': 1000.0, 'coeffs_low': [2.92208, 0.00762454, 3.29884e-06, -1.07135e-08, 5.11587e-12, -23028.2, 11.2926], 'coeffs_high': [5.39206, 0.00411221, -1.48195e-06, 2.39875e-10, -1.43903e-14, -23860.7, -2.23529], 'type': 'nasa7'}}\n",
      "{'name': 'CHO3(61)', 'therm': {'T_min': 100.0, 'T_max': 5000.0, 'formula': {'N': None, 'Ne': None, 'C': 1, 'O': 3, 'H': 1}, 'charge': 0, 'T_mid': 968.18, 'coeffs_low': [3.28602197, 0.00907569629, 1.53517047e-05, -2.86384637e-08, 1.19719144e-11, -45835.0949, 11.0209279], 'coeffs_high': [8.68688635, 0.00322546319, -1.09077509e-06, 2.4630402e-10, -2.15826504e-14, -47652.5132, -18.8453348], 'type': 'nasa7'}}\n",
      "{'name': 'CHO2(38)', 'therm': {'T_min': 100.0, 'T_max': 5000.0, 'formula': {'N': None, 'Ne': None, 'C': 1, 'O': 2, 'H': 1}, 'charge': 0, 'T_mid': 1057.62, 'coeffs_low': [3.56693505, 0.00737394115, 1.23402592e-06, -6.05180772e-09, 2.52682089e-12, -16668.234, 8.24685211], 'coeffs_high': [5.51468598, 0.00487383475, -2.12202701e-06, 4.14213516e-10, -2.99876467e-14, -17352.4027, -2.54575161], 'type': 'nasa7'}}\n",
      "{'name': 'CHO4(44)', 'therm': {'T_min': 100.0, 'T_max': 5000.0, 'formula': {'N': None, 'Ne': None, 'C': 1, 'O': 4, 'H': 1}, 'charge': 0, 'T_mid': 939.44, 'coeffs_low': [2.57826958, 0.0176125669, 2.55002441e-05, -5.62075821e-08, 2.53384621e-11, -46062.9329, 15.7916906], 'coeffs_high': [15.4492139, -0.00249612363, 2.21180272e-06, -3.69643062e-10, 1.76378582e-14, -50012.1743, -53.6473099], 'type': 'nasa7'}}\n",
      "{'name': 'CH2O3(82)', 'therm': {'T_min': 100.0, 'T_max': 5000.0, 'formula': {'N': None, 'Ne': None, 'C': 1, 'O': 3, 'H': 2}, 'charge': 0, 'T_mid': 956.75, 'coeffs_low': [2.98116506, 0.0114388942, 2.77945768e-05, -4.94698411e-08, 2.07998858e-11, -75136.2668, 10.9457245], 'coeffs_high': [11.8953474, 0.00171602859, -1.47932622e-07, 9.25919346e-11, -1.38613705e-14, -78102.7323, -38.2545468], 'type': 'nasa7'}}\n"
     ]
    },
    {
     "data": {
      "text/html": [
       "<div><style>\n",
       ".dataframe > thead > tr,\n",
       ".dataframe > tbody > tr {\n",
       "  text-align: right;\n",
       "  white-space: pre-wrap;\n",
       "}\n",
       "</style>\n",
       "<small>shape: (18, 8)</small><table border=\"1\" class=\"dataframe\"><thead><tr><th>name</th><th>smiles</th><th>amchi</th><th>spin</th><th>charge</th><th>formula</th><th>therm</th><th>obj</th></tr><tr><td>str</td><td>str</td><td>str</td><td>i64</td><td>i64</td><td>struct[5]</td><td>struct[8]</td><td>object</td></tr></thead><tbody><tr><td>&quot;N2&quot;</td><td>&quot;N#N&quot;</td><td>&quot;AMChI=1/N2/c1-2&quot;</td><td>0</td><td>0</td><td>{2,null,null,null,null}</td><td>{200.0,6000.0,{2,null,null,null,null},0,1000.0,[3.53101, -0.000124, … 2.96747],[2.95258, 0.0013969, … 5.87189],&quot;nasa7&quot;}</td><td>null</td></tr><tr><td>&quot;Ne&quot;</td><td>&quot;[Ne]&quot;</td><td>&quot;AMChI=1/Ne&quot;</td><td>0</td><td>0</td><td>{null,1,null,null,null}</td><td>{200.0,6000.0,{null,1,null,null,null},0,1000.0,[2.5, 0.0, … 3.35532],[2.5, 0.0, … 3.35532],&quot;nasa7&quot;}</td><td>null</td></tr><tr><td>&quot;CO(1)&quot;</td><td>&quot;[C-]#[O+]&quot;</td><td>&quot;AMChI=1/CO/c1-2&quot;</td><td>0</td><td>0</td><td>{null,null,1,1,null}</td><td>{200.0,6000.0,{null,null,1,1,null},0,1000.0,[3.57953, -0.00061, … 3.50841],[3.04849, 0.001352, … 6.0171],&quot;nasa7&quot;}</td><td>null</td></tr><tr><td>&quot;H2(2)&quot;</td><td>&quot;[H][H]&quot;</td><td>&quot;AMChI=1/H2/h1H&quot;</td><td>0</td><td>0</td><td>{null,null,null,null,2}</td><td>{100.0,5000.0,{null,null,null,null,2},0,1959.08,[3.435364, 0.000213, … -3.908418],[2.788149, 0.000588, … 0.112835],&quot;nasa7&quot;}</td><td>null</td></tr><tr><td>&quot;O2(3)&quot;</td><td>&quot;[O][O]&quot;</td><td>&quot;AMChI=1/O2/c1-2&quot;</td><td>2</td><td>0</td><td>{null,null,null,2,null}</td><td>{100.0,5000.0,{null,null,null,2,null},0,1074.55,[3.537322, -0.001216, … 4.683682],[3.153821, 0.001678, … 6.1675583],&quot;nasa7&quot;}</td><td>null</td></tr><tr><td>&hellip;</td><td>&hellip;</td><td>&hellip;</td><td>&hellip;</td><td>&hellip;</td><td>&hellip;</td><td>&hellip;</td><td>&hellip;</td></tr><tr><td>&quot;HOCO(39)&quot;</td><td>&quot;O[C]=O&quot;</td><td>&quot;AMChI=1/CHO2/c2-1-3/h3H&quot;</td><td>1</td><td>0</td><td>{null,null,1,2,1}</td><td>{200.0,6000.0,{null,null,1,2,1},0,1000.0,[2.92208, 0.007625, … 11.2926],[5.39206, 0.004112, … -2.23529],&quot;nasa7&quot;}</td><td>null</td></tr><tr><td>&quot;CHO3(61)&quot;</td><td>&quot;OC(=O)[O]&quot;</td><td>&quot;AMChI=1/CHO3/c2-1(3)4/h4H&quot;</td><td>1</td><td>0</td><td>{null,null,1,3,1}</td><td>{100.0,5000.0,{null,null,1,3,1},0,968.18,[3.286022, 0.009076, … 11.020928],[8.686886, 0.003225, … -18.845335],&quot;nasa7&quot;}</td><td>null</td></tr><tr><td>&quot;CHO2(38)&quot;</td><td>&quot;[O]C=O&quot;</td><td>&quot;AMChI=1/CHO2/c2-1-3/h1H&quot;</td><td>1</td><td>0</td><td>{null,null,1,2,1}</td><td>{100.0,5000.0,{null,null,1,2,1},0,1057.62,[3.566935, 0.007374, … 8.246852],[5.514686, 0.004874, … -2.545752],&quot;nasa7&quot;}</td><td>null</td></tr><tr><td>&quot;CHO4(44)&quot;</td><td>&quot;OOC(=O)[O]&quot;</td><td>&quot;AMChI=1/CHO4/c2-1(3)5-4/h4H&quot;</td><td>1</td><td>0</td><td>{null,null,1,4,1}</td><td>{100.0,5000.0,{null,null,1,4,1},0,939.44,[2.57827, 0.017613, … 15.791691],[15.449214, -0.002496, … -53.64731],&quot;nasa7&quot;}</td><td>null</td></tr><tr><td>&quot;CH2O3(82)&quot;</td><td>&quot;OC(=O)O&quot;</td><td>&quot;AMChI=1/CH2O3/c2-1(3)4/h3-4H&quot;</td><td>0</td><td>0</td><td>{null,null,1,3,2}</td><td>{100.0,5000.0,{null,null,1,3,2},0,956.75,[2.981165, 0.011439, … 10.945725],[11.895347, 0.001716, … -38.254547],&quot;nasa7&quot;}</td><td>null</td></tr></tbody></table></div>"
      ],
      "text/plain": [
       "shape: (18, 8)\n",
       "┌───────────┬────────────┬────────────────┬──────┬────────┬───────────────┬───────────────┬────────┐\n",
       "│ name      ┆ smiles     ┆ amchi          ┆ spin ┆ charge ┆ formula       ┆ therm         ┆ obj    │\n",
       "│ ---       ┆ ---        ┆ ---            ┆ ---  ┆ ---    ┆ ---           ┆ ---           ┆ ---    │\n",
       "│ str       ┆ str        ┆ str            ┆ i64  ┆ i64    ┆ struct[5]     ┆ struct[8]     ┆ object │\n",
       "╞═══════════╪════════════╪════════════════╪══════╪════════╪═══════════════╪═══════════════╪════════╡\n",
       "│ N2        ┆ N#N        ┆ AMChI=1/N2/c1- ┆ 0    ┆ 0      ┆ {2,null,null, ┆ {200.0,6000.0 ┆ null   │\n",
       "│           ┆            ┆ 2              ┆      ┆        ┆ null,null}    ┆ ,{2,null,null ┆        │\n",
       "│           ┆            ┆                ┆      ┆        ┆               ┆ ,nul…         ┆        │\n",
       "│ Ne        ┆ [Ne]       ┆ AMChI=1/Ne     ┆ 0    ┆ 0      ┆ {null,1,null, ┆ {200.0,6000.0 ┆ null   │\n",
       "│           ┆            ┆                ┆      ┆        ┆ null,null}    ┆ ,{null,1,null ┆        │\n",
       "│           ┆            ┆                ┆      ┆        ┆               ┆ ,nul…         ┆        │\n",
       "│ CO(1)     ┆ [C-]#[O+]  ┆ AMChI=1/CO/c1- ┆ 0    ┆ 0      ┆ {null,null,1, ┆ {200.0,6000.0 ┆ null   │\n",
       "│           ┆            ┆ 2              ┆      ┆        ┆ 1,null}       ┆ ,{null,null,1 ┆        │\n",
       "│           ┆            ┆                ┆      ┆        ┆               ┆ ,1,n…         ┆        │\n",
       "│ H2(2)     ┆ [H][H]     ┆ AMChI=1/H2/h1H ┆ 0    ┆ 0      ┆ {null,null,nu ┆ {100.0,5000.0 ┆ null   │\n",
       "│           ┆            ┆                ┆      ┆        ┆ ll,null,2}    ┆ ,{null,null,n ┆        │\n",
       "│           ┆            ┆                ┆      ┆        ┆               ┆ ull,…         ┆        │\n",
       "│ O2(3)     ┆ [O][O]     ┆ AMChI=1/O2/c1- ┆ 2    ┆ 0      ┆ {null,null,nu ┆ {100.0,5000.0 ┆ null   │\n",
       "│           ┆            ┆ 2              ┆      ┆        ┆ ll,2,null}    ┆ ,{null,null,n ┆        │\n",
       "│           ┆            ┆                ┆      ┆        ┆               ┆ ull,…         ┆        │\n",
       "│ …         ┆ …          ┆ …              ┆ …    ┆ …      ┆ …             ┆ …             ┆ …      │\n",
       "│ HOCO(39)  ┆ O[C]=O     ┆ AMChI=1/CHO2/c ┆ 1    ┆ 0      ┆ {null,null,1, ┆ {200.0,6000.0 ┆ null   │\n",
       "│           ┆            ┆ 2-1-3/h3H      ┆      ┆        ┆ 2,1}          ┆ ,{null,null,1 ┆        │\n",
       "│           ┆            ┆                ┆      ┆        ┆               ┆ ,2,1…         ┆        │\n",
       "│ CHO3(61)  ┆ OC(=O)[O]  ┆ AMChI=1/CHO3/c ┆ 1    ┆ 0      ┆ {null,null,1, ┆ {100.0,5000.0 ┆ null   │\n",
       "│           ┆            ┆ 2-1(3)4/h4H    ┆      ┆        ┆ 3,1}          ┆ ,{null,null,1 ┆        │\n",
       "│           ┆            ┆                ┆      ┆        ┆               ┆ ,3,1…         ┆        │\n",
       "│ CHO2(38)  ┆ [O]C=O     ┆ AMChI=1/CHO2/c ┆ 1    ┆ 0      ┆ {null,null,1, ┆ {100.0,5000.0 ┆ null   │\n",
       "│           ┆            ┆ 2-1-3/h1H      ┆      ┆        ┆ 2,1}          ┆ ,{null,null,1 ┆        │\n",
       "│           ┆            ┆                ┆      ┆        ┆               ┆ ,2,1…         ┆        │\n",
       "│ CHO4(44)  ┆ OOC(=O)[O] ┆ AMChI=1/CHO4/c ┆ 1    ┆ 0      ┆ {null,null,1, ┆ {100.0,5000.0 ┆ null   │\n",
       "│           ┆            ┆ 2-1(3)5-4/h4H  ┆      ┆        ┆ 4,1}          ┆ ,{null,null,1 ┆        │\n",
       "│           ┆            ┆                ┆      ┆        ┆               ┆ ,4,1…         ┆        │\n",
       "│ CH2O3(82) ┆ OC(=O)O    ┆ AMChI=1/CH2O3/ ┆ 0    ┆ 0      ┆ {null,null,1, ┆ {100.0,5000.0 ┆ null   │\n",
       "│           ┆            ┆ c2-1(3)4/h3-4H ┆      ┆        ┆ 3,2}          ┆ ,{null,null,1 ┆        │\n",
       "│           ┆            ┆                ┆      ┆        ┆               ┆ ,3,2…         ┆        │\n",
       "└───────────┴────────────┴────────────────┴──────┴────────┴───────────────┴───────────────┴────────┘"
      ]
     },
     "execution_count": 3,
     "metadata": {},
     "output_type": "execute_result"
    }
   ],
   "source": [
    "automech.species.with_therm_objects(mech.species, \"obj\")"
   ]
  },
  {
   "cell_type": "code",
   "execution_count": 5,
   "metadata": {},
   "outputs": [
    {
     "name": "stdout",
     "output_type": "stream",
     "text": [
      "{'name': 'N2', 'therm': {'T_min': 200.0, 'T_max': 6000.0, 'formula': {'N': 2, 'Ne': None, 'C': None, 'O': None, 'H': None}, 'charge': 0, 'T_mid': 1000.0, 'coeffs_low': [3.53101, -0.000123661, -5.02999e-07, 2.43531e-09, -1.40881e-12, -1046.98, 2.96747], 'coeffs_high': [2.95258, 0.0013969, -4.92632e-07, 7.8601e-11, -4.60755e-15, -923.949, 5.87189], 'type': 'nasa7'}}\n",
      "{'name': 'Ne', 'therm': {'T_min': 200.0, 'T_max': 6000.0, 'formula': {'N': None, 'Ne': 1, 'C': None, 'O': None, 'H': None}, 'charge': 0, 'T_mid': 1000.0, 'coeffs_low': [2.5, 0.0, 0.0, 0.0, 0.0, -745.375, 3.35532], 'coeffs_high': [2.5, 0.0, 0.0, 0.0, 0.0, -745.375, 3.35532], 'type': 'nasa7'}}\n",
      "{'name': 'CO(1)', 'therm': {'T_min': 200.0, 'T_max': 6000.0, 'formula': {'N': None, 'Ne': None, 'C': 1, 'O': 1, 'H': None}, 'charge': 0, 'T_mid': 1000.0, 'coeffs_low': [3.57953, -0.000610354, 1.01681e-06, 9.07006e-10, -9.04424e-13, -14344.1, 3.50841], 'coeffs_high': [3.04849, 0.00135173, -4.85794e-07, 7.88536e-11, -4.69807e-15, -14266.1, 6.0171], 'type': 'nasa7'}}\n",
      "{'name': 'H2(2)', 'therm': {'T_min': 100.0, 'T_max': 5000.0, 'formula': {'N': None, 'Ne': None, 'C': None, 'O': None, 'H': 2}, 'charge': 0, 'T_mid': 1959.08, 'coeffs_low': [3.43536428, 0.000212708915, -2.78621781e-07, 3.40264607e-10, -7.76025661e-14, -1031.35985, -3.90841796], 'coeffs_high': [2.78814852, 0.000587663436, 1.58999886e-07, -5.52717891e-11, 4.3429558e-15, -596.134054, 0.112835287], 'type': 'nasa7'}}\n",
      "{'name': 'O2(3)', 'therm': {'T_min': 100.0, 'T_max': 5000.0, 'formula': {'N': None, 'Ne': None, 'C': None, 'O': 2, 'H': None}, 'charge': 0, 'T_mid': 1074.55, 'coeffs_low': [3.53732243, -0.00121571647, 5.31620251e-06, -4.89446431e-09, 1.45846257e-12, -1038.58849, 4.68368183], 'coeffs_high': [3.15382081, 0.0016780437, -7.69974233e-07, 1.51275461e-10, -1.08782413e-14, -1040.81728, 6.1675583], 'type': 'nasa7'}}\n",
      "{'name': 'H(4)', 'therm': {'T_min': 100.0, 'T_max': 5000.0, 'formula': {'N': None, 'Ne': None, 'C': None, 'O': None, 'H': 1}, 'charge': 0, 'T_mid': 2121.2, 'coeffs_low': [2.5, 1.37382135e-15, -2.66902032e-18, 1.75563256e-21, -3.60841378e-25, 25474.2178, -0.444972896], 'coeffs_high': [2.5, 3.04114587e-14, -1.54210734e-17, 3.31770777e-21, -2.56694325e-25, 25474.2178, -0.444972896], 'type': 'nasa7'}}\n",
      "{'name': 'O(5)', 'therm': {'T_min': 100.0, 'T_max': 5000.0, 'formula': {'N': None, 'Ne': None, 'C': None, 'O': 1, 'H': None}, 'charge': 0, 'T_mid': 2121.2, 'coeffs_low': [2.5, 1.37382135e-15, -2.66902032e-18, 1.75563256e-21, -3.60841378e-25, 29230.2441, 4.09104286], 'coeffs_high': [2.5, 3.04114587e-14, -1.54210734e-17, 3.31770777e-21, -2.56694325e-25, 29230.2441, 4.09104286], 'type': 'nasa7'}}\n",
      "{'name': 'HO2(10)', 'therm': {'T_min': 200.0, 'T_max': 5000.0, 'formula': {'N': None, 'Ne': None, 'C': None, 'O': 2, 'H': 1}, 'charge': 0, 'T_mid': 1000.0, 'coeffs_low': [4.3018, -0.00474912, 2.11583e-05, -2.42764e-08, 9.29225e-12, 264.018, 3.71666], 'coeffs_high': [4.17229, 0.00188118, -3.46277e-07, 1.94658e-11, 1.76257e-16, 31.0207, 2.95768], 'type': 'nasa7'}}\n",
      "{'name': 'CO2(12)', 'therm': {'T_min': 200.0, 'T_max': 6000.0, 'formula': {'N': None, 'Ne': None, 'C': 1, 'O': 2, 'H': None}, 'charge': 0, 'T_mid': 1000.0, 'coeffs_low': [2.35681, 0.00898413, -7.12206e-06, 2.4573e-09, -1.42885e-13, -48372.0, 9.9009], 'coeffs_high': [4.63651, 0.00274146, -9.95898e-07, 1.60387e-10, -9.16199e-15, -49024.9, -1.9349], 'type': 'nasa7'}}\n",
      "{'name': 'OH(6)', 'therm': {'T_min': 100.0, 'T_max': 5000.0, 'formula': {'N': None, 'Ne': None, 'C': None, 'O': 1, 'H': 1}, 'charge': 0, 'T_mid': 1145.75, 'coeffs_low': [3.51456792, 2.9278695e-05, -5.32167684e-07, 1.01949538e-09, -3.85947129e-13, 3414.2542, 2.10434926], 'coeffs_high': [3.07194067, 0.000604014297, -1.39775153e-08, -2.13447882e-11, 2.48067106e-15, 3579.38638, 4.57799517], 'type': 'nasa7'}}\n",
      "{'name': 'H2O(7)', 'therm': {'T_min': 100.0, 'T_max': 5000.0, 'formula': {'N': None, 'Ne': None, 'C': None, 'O': 1, 'H': 2}, 'charge': 0, 'T_mid': 1130.24, 'coeffs_low': [4.05763581, -0.000787935554, 2.90877394e-06, -1.47518743e-09, 2.12842489e-13, -30281.5866, -0.311363963], 'coeffs_high': [2.84325068, 0.00275108509, -7.81031288e-07, 1.07243594e-10, -5.79391875e-15, -29958.6129, 5.91041861], 'type': 'nasa7'}}\n",
      "{'name': 'HCO(13)', 'therm': {'T_min': 200.0, 'T_max': 6000.0, 'formula': {'N': None, 'Ne': None, 'C': 1, 'O': 1, 'H': 1}, 'charge': 0, 'T_mid': 1000.0, 'coeffs_low': [4.23755, -0.00332075, 1.4003e-05, -1.3424e-08, 4.37416e-12, 3872.41, 3.30835], 'coeffs_high': [3.92002, 0.00252279, -6.71004e-07, 1.05616e-10, -7.43798e-15, 3653.43, 3.58077], 'type': 'nasa7'}}\n",
      "{'name': 'H2O2(11)', 'therm': {'T_min': 200.0, 'T_max': 6000.0, 'formula': {'N': None, 'Ne': None, 'C': None, 'O': 2, 'H': 2}, 'charge': 0, 'T_mid': 1000.0, 'coeffs_low': [4.31515, -0.000847391, 1.76404e-05, -2.26763e-08, 9.0895e-12, -17706.7, 3.27373], 'coeffs_high': [4.57977, 0.00405326, -1.29845e-06, 1.98211e-10, -1.13969e-14, -18007.2, 0.664971], 'type': 'nasa7'}}\n",
      "{'name': 'HOCO(39)', 'therm': {'T_min': 200.0, 'T_max': 6000.0, 'formula': {'N': None, 'Ne': None, 'C': 1, 'O': 2, 'H': 1}, 'charge': 0, 'T_mid': 1000.0, 'coeffs_low': [2.92208, 0.00762454, 3.29884e-06, -1.07135e-08, 5.11587e-12, -23028.2, 11.2926], 'coeffs_high': [5.39206, 0.00411221, -1.48195e-06, 2.39875e-10, -1.43903e-14, -23860.7, -2.23529], 'type': 'nasa7'}}\n",
      "{'name': 'CHO3(61)', 'therm': {'T_min': 100.0, 'T_max': 5000.0, 'formula': {'N': None, 'Ne': None, 'C': 1, 'O': 3, 'H': 1}, 'charge': 0, 'T_mid': 968.18, 'coeffs_low': [3.28602197, 0.00907569629, 1.53517047e-05, -2.86384637e-08, 1.19719144e-11, -45835.0949, 11.0209279], 'coeffs_high': [8.68688635, 0.00322546319, -1.09077509e-06, 2.4630402e-10, -2.15826504e-14, -47652.5132, -18.8453348], 'type': 'nasa7'}}\n",
      "{'name': 'CHO2(38)', 'therm': {'T_min': 100.0, 'T_max': 5000.0, 'formula': {'N': None, 'Ne': None, 'C': 1, 'O': 2, 'H': 1}, 'charge': 0, 'T_mid': 1057.62, 'coeffs_low': [3.56693505, 0.00737394115, 1.23402592e-06, -6.05180772e-09, 2.52682089e-12, -16668.234, 8.24685211], 'coeffs_high': [5.51468598, 0.00487383475, -2.12202701e-06, 4.14213516e-10, -2.99876467e-14, -17352.4027, -2.54575161], 'type': 'nasa7'}}\n",
      "{'name': 'CHO4(44)', 'therm': {'T_min': 100.0, 'T_max': 5000.0, 'formula': {'N': None, 'Ne': None, 'C': 1, 'O': 4, 'H': 1}, 'charge': 0, 'T_mid': 939.44, 'coeffs_low': [2.57826958, 0.0176125669, 2.55002441e-05, -5.62075821e-08, 2.53384621e-11, -46062.9329, 15.7916906], 'coeffs_high': [15.4492139, -0.00249612363, 2.21180272e-06, -3.69643062e-10, 1.76378582e-14, -50012.1743, -53.6473099], 'type': 'nasa7'}}\n",
      "{'name': 'CH2O3(82)', 'therm': {'T_min': 100.0, 'T_max': 5000.0, 'formula': {'N': None, 'Ne': None, 'C': 1, 'O': 3, 'H': 2}, 'charge': 0, 'T_mid': 956.75, 'coeffs_low': [2.98116506, 0.0114388942, 2.77945768e-05, -4.94698411e-08, 2.07998858e-11, -75136.2668, 10.9457245], 'coeffs_high': [11.8953474, 0.00171602859, -1.47932622e-07, 9.25919346e-11, -1.38613705e-14, -78102.7323, -38.2545468], 'type': 'nasa7'}}\n"
     ]
    },
    {
     "ename": "TypeError",
     "evalue": "sequence item 0: expected str instance, NoneType found",
     "output_type": "error",
     "traceback": [
      "\u001b[0;31m---------------------------------------------------------------------------\u001b[0m",
      "\u001b[0;31mTypeError\u001b[0m                                 Traceback (most recent call last)",
      "Cell \u001b[0;32mIn[5], line 1\u001b[0m\n\u001b[0;32m----> 1\u001b[0m \u001b[38;5;28mprint\u001b[39m(\u001b[43mautomech\u001b[49m\u001b[38;5;241;43m.\u001b[39;49m\u001b[43mio\u001b[49m\u001b[38;5;241;43m.\u001b[39;49m\u001b[43mchemkin\u001b[49m\u001b[38;5;241;43m.\u001b[39;49m\u001b[43mwrite\u001b[49m\u001b[38;5;241;43m.\u001b[39;49m\u001b[43mmechanism\u001b[49m\u001b[43m(\u001b[49m\u001b[43mmech\u001b[49m\u001b[43m)\u001b[49m)\n",
      "File \u001b[0;32m~/code/amech-dev/src/automech/io/chemkin/write.py:38\u001b[0m, in \u001b[0;36mmechanism\u001b[0;34m(mech, out, fill_rates)\u001b[0m\n\u001b[1;32m     25\u001b[0m \u001b[38;5;28;01mdef\u001b[39;00m\u001b[38;5;250m \u001b[39m\u001b[38;5;21mmechanism\u001b[39m(\n\u001b[1;32m     26\u001b[0m     mech: Mechanism, out: \u001b[38;5;28mstr\u001b[39m \u001b[38;5;241m|\u001b[39m Path \u001b[38;5;241m|\u001b[39m \u001b[38;5;28;01mNone\u001b[39;00m \u001b[38;5;241m=\u001b[39m \u001b[38;5;28;01mNone\u001b[39;00m, fill_rates: \u001b[38;5;28mbool\u001b[39m \u001b[38;5;241m=\u001b[39m \u001b[38;5;28;01mFalse\u001b[39;00m\n\u001b[1;32m     27\u001b[0m ) \u001b[38;5;241m-\u001b[39m\u001b[38;5;241m>\u001b[39m \u001b[38;5;28mstr\u001b[39m:\n\u001b[1;32m     28\u001b[0m \u001b[38;5;250m    \u001b[39m\u001b[38;5;124;03m\"\"\"Write a mechanism to CHEMKIN format.\u001b[39;00m\n\u001b[1;32m     29\u001b[0m \n\u001b[1;32m     30\u001b[0m \u001b[38;5;124;03m    :param mech: A mechanism\u001b[39;00m\n\u001b[0;32m   (...)\u001b[0m\n\u001b[1;32m     33\u001b[0m \u001b[38;5;124;03m    :return: The CHEMKIN mechanism as a string\u001b[39;00m\n\u001b[1;32m     34\u001b[0m \u001b[38;5;124;03m    \"\"\"\u001b[39;00m\n\u001b[1;32m     35\u001b[0m     blocks \u001b[38;5;241m=\u001b[39m [\n\u001b[1;32m     36\u001b[0m         elements_block(mech),\n\u001b[1;32m     37\u001b[0m         species_block(mech),\n\u001b[0;32m---> 38\u001b[0m         \u001b[43mthermo_block\u001b[49m\u001b[43m(\u001b[49m\u001b[43mmech\u001b[49m\u001b[43m)\u001b[49m,\n\u001b[1;32m     39\u001b[0m         reactions_block(mech, fill_rates\u001b[38;5;241m=\u001b[39mfill_rates),\n\u001b[1;32m     40\u001b[0m     ]\n\u001b[1;32m     41\u001b[0m     mech_str \u001b[38;5;241m=\u001b[39m \u001b[38;5;124m\"\u001b[39m\u001b[38;5;130;01m\\n\u001b[39;00m\u001b[38;5;130;01m\\n\u001b[39;00m\u001b[38;5;130;01m\\n\u001b[39;00m\u001b[38;5;124m\"\u001b[39m\u001b[38;5;241m.\u001b[39mjoin(b \u001b[38;5;28;01mfor\u001b[39;00m b \u001b[38;5;129;01min\u001b[39;00m blocks \u001b[38;5;28;01mif\u001b[39;00m b \u001b[38;5;129;01mis\u001b[39;00m \u001b[38;5;129;01mnot\u001b[39;00m \u001b[38;5;28;01mNone\u001b[39;00m)\n\u001b[1;32m     42\u001b[0m     \u001b[38;5;28;01mif\u001b[39;00m out \u001b[38;5;129;01mis\u001b[39;00m \u001b[38;5;129;01mnot\u001b[39;00m \u001b[38;5;28;01mNone\u001b[39;00m:\n",
      "File \u001b[0;32m~/code/amech-dev/src/automech/io/chemkin/write.py:111\u001b[0m, in \u001b[0;36mthermo_block\u001b[0;34m(mech)\u001b[0m\n\u001b[1;32m    108\u001b[0m     thermo_temps_str \u001b[38;5;241m=\u001b[39m \u001b[38;5;124m\"\u001b[39m\u001b[38;5;124m  \u001b[39m\u001b[38;5;124m\"\u001b[39m\u001b[38;5;241m.\u001b[39mjoin(\u001b[38;5;124mf\u001b[39m\u001b[38;5;124m\"\u001b[39m\u001b[38;5;132;01m{\u001b[39;00mt\u001b[38;5;132;01m:\u001b[39;00m\u001b[38;5;124m.3f\u001b[39m\u001b[38;5;132;01m}\u001b[39;00m\u001b[38;5;124m\"\u001b[39m \u001b[38;5;28;01mfor\u001b[39;00m t \u001b[38;5;129;01min\u001b[39;00m thermo_temps)\n\u001b[1;32m    109\u001b[0m     header \u001b[38;5;241m=\u001b[39m \u001b[38;5;124mf\u001b[39m\u001b[38;5;124m\"\u001b[39m\u001b[38;5;124mALL\u001b[39m\u001b[38;5;130;01m\\n\u001b[39;00m\u001b[38;5;124m    \u001b[39m\u001b[38;5;132;01m{\u001b[39;00mthermo_temps_str\u001b[38;5;132;01m}\u001b[39;00m\u001b[38;5;124m\"\u001b[39m\n\u001b[0;32m--> 111\u001b[0m \u001b[38;5;28;01mreturn\u001b[39;00m \u001b[43mblock\u001b[49m\u001b[43m(\u001b[49m\u001b[43mKeyWord\u001b[49m\u001b[38;5;241;43m.\u001b[39;49m\u001b[43mTHERM\u001b[49m\u001b[43m,\u001b[49m\u001b[43m \u001b[49m\u001b[43mtherm_strs\u001b[49m\u001b[43m,\u001b[49m\u001b[43m \u001b[49m\u001b[43mheader\u001b[49m\u001b[38;5;241;43m=\u001b[39;49m\u001b[43mheader\u001b[49m\u001b[43m)\u001b[49m\n",
      "File \u001b[0;32m~/code/amech-dev/src/automech/io/chemkin/write.py:205\u001b[0m, in \u001b[0;36mblock\u001b[0;34m(key, val, header, frame)\u001b[0m\n\u001b[1;32m    196\u001b[0m \u001b[38;5;250m\u001b[39m\u001b[38;5;124;03m\"\"\"Write a block to a string.\u001b[39;00m\n\u001b[1;32m    197\u001b[0m \n\u001b[1;32m    198\u001b[0m \u001b[38;5;124;03m:param key: The starting key for the block\u001b[39;00m\n\u001b[0;32m   (...)\u001b[0m\n\u001b[1;32m    202\u001b[0m \u001b[38;5;124;03m:return: The block\u001b[39;00m\n\u001b[1;32m    203\u001b[0m \u001b[38;5;124;03m\"\"\"\u001b[39;00m\n\u001b[1;32m    204\u001b[0m start \u001b[38;5;241m=\u001b[39m key \u001b[38;5;28;01mif\u001b[39;00m header \u001b[38;5;129;01mis\u001b[39;00m \u001b[38;5;28;01mNone\u001b[39;00m \u001b[38;5;28;01melse\u001b[39;00m \u001b[38;5;124mf\u001b[39m\u001b[38;5;124m\"\u001b[39m\u001b[38;5;132;01m{\u001b[39;00mkey\u001b[38;5;132;01m}\u001b[39;00m\u001b[38;5;124m \u001b[39m\u001b[38;5;132;01m{\u001b[39;00mheader\u001b[38;5;132;01m}\u001b[39;00m\u001b[38;5;124m\"\u001b[39m\n\u001b[0;32m--> 205\u001b[0m val \u001b[38;5;241m=\u001b[39m val \u001b[38;5;28;01mif\u001b[39;00m \u001b[38;5;28misinstance\u001b[39m(val, \u001b[38;5;28mstr\u001b[39m) \u001b[38;5;28;01melse\u001b[39;00m \u001b[38;5;124;43m\"\u001b[39;49m\u001b[38;5;130;43;01m\\n\u001b[39;49;00m\u001b[38;5;124;43m\"\u001b[39;49m\u001b[38;5;241;43m.\u001b[39;49m\u001b[43mjoin\u001b[49m\u001b[43m(\u001b[49m\u001b[43mval\u001b[49m\u001b[43m)\u001b[49m\n\u001b[1;32m    206\u001b[0m \u001b[38;5;28;01mif\u001b[39;00m \u001b[38;5;129;01mnot\u001b[39;00m frame:\n\u001b[1;32m    207\u001b[0m     \u001b[38;5;28;01mreturn\u001b[39;00m val\n",
      "\u001b[0;31mTypeError\u001b[0m: sequence item 0: expected str instance, NoneType found"
     ]
    }
   ],
   "source": [
    "print(automech.io.chemkin.write.mechanism(mech))"
   ]
  },
  {
   "cell_type": "code",
   "execution_count": null,
   "metadata": {},
   "outputs": [],
   "source": []
  }
 ],
 "metadata": {
  "kernelspec": {
   "display_name": "proto",
   "language": "python",
   "name": "python3"
  },
  "language_info": {
   "codemirror_mode": {
    "name": "ipython",
    "version": 3
   },
   "file_extension": ".py",
   "mimetype": "text/x-python",
   "name": "python",
   "nbconvert_exporter": "python",
   "pygments_lexer": "ipython3",
   "version": "3.11.12"
  }
 },
 "nbformat": 4,
 "nbformat_minor": 2
}
