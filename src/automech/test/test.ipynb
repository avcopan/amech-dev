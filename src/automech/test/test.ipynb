{
 "cells": [
  {
   "cell_type": "code",
   "execution_count": 1,
   "metadata": {},
   "outputs": [],
   "source": [
    "from pathlib import Path\n",
    "\n",
    "import automech\n",
    "\n",
    "DATA_PATH = Path(\".\") / \"data\"\n",
    "\n",
    "mech_file_name = \"syngas.dat\""
   ]
  },
  {
   "cell_type": "code",
   "execution_count": 2,
   "metadata": {},
   "outputs": [
    {
     "data": {
      "text/plain": [
       "(shape: (78, 5)\n",
       " ┌────────────────────────┬────────────────────────┬───────────┬────────────┬───────────────────────┐\n",
       " │ reactants              ┆ products               ┆ formula   ┆ reversible ┆ rate_constant         │\n",
       " │ ---                    ┆ ---                    ┆ ---       ┆ ---        ┆ ---                   │\n",
       " │ list[str]              ┆ list[str]              ┆ struct[1] ┆ bool       ┆ struct[15]            │\n",
       " ╞════════════════════════╪════════════════════════╪═══════════╪════════════╪═══════════════════════╡\n",
       " │ [\"H2(2)\"]              ┆ [\"H(4)\", \"H(4)\"]       ┆ {null}    ┆ true       ┆ {2,{1.0,12.02,2.55,1. │\n",
       " │                        ┆                        ┆           ┆            ┆ 01,1.95,n…            │\n",
       " │ [\"O(5)\", \"O(5)\"]       ┆ [\"O2(3)\"]              ┆ {null}    ┆ true       ┆ {3,{1.0,12.0,2.5,null │\n",
       " │                        ┆                        ┆           ┆            ┆ ,1.9,null…            │\n",
       " │ [\"H(4)\", \"O2(3)\"]      ┆ [\"HO2(10)\"]            ┆ {null}    ┆ true       ┆ {3,{1.0,15.81,1.87,0. │\n",
       " │                        ┆                        ┆           ┆            ┆ 96,1.9,nu…            │\n",
       " │ [\"H(4)\", \"HO2(10)\"]    ┆ [\"H2(2)\", \"O2(3)\"]     ┆ {null}    ┆ true       ┆ {2,{null,null,null,nu │\n",
       " │                        ┆                        ┆           ┆            ┆ ll,null,n…            │\n",
       " │ [\"CO(1)\", \"O(5)\"]      ┆ [\"CO2(12)\"]            ┆ {null}    ┆ true       ┆ {3,{1.0,12.0,null,nul │\n",
       " │                        ┆                        ┆           ┆            ┆ l,1.9,nul…            │\n",
       " │ …                      ┆ …                      ┆ …         ┆ …          ┆ …                     │\n",
       " │ [\"CHO3(61)\",           ┆ [\"CH2O3(82)\",          ┆ {null}    ┆ true       ┆ {2,{null,null,null,nu │\n",
       " │ \"H2O2(11)\"]            ┆ \"HO2(10)\"]             ┆           ┆            ┆ ll,null,n…            │\n",
       " │ [\"CHO2(38)\",           ┆ [\"CH2O3(82)\",          ┆ {null}    ┆ true       ┆ {2,{null,null,null,nu │\n",
       " │ \"CHO3(61)\"]            ┆ \"CO2(12)\"]             ┆           ┆            ┆ ll,null,n…            │\n",
       " │ [\"CHO3(61)\",           ┆ [\"CH2O3(82)\",          ┆ {null}    ┆ true       ┆ {2,{null,null,null,nu │\n",
       " │ \"HOCO(39)\"]            ┆ \"CO2(12)\"]             ┆           ┆            ┆ ll,null,n…            │\n",
       " │ [\"CH2O3(82)\"]          ┆ [\"HOCO(39)\", \"OH(6)\"]  ┆ {null}    ┆ true       ┆ {2,{1.0,null,null,nul │\n",
       " │                        ┆                        ┆           ┆            ┆ l,null,nu…            │\n",
       " │ [\"CH2O3(82)\"]          ┆ [\"CHO3(61)\", \"H(4)\"]   ┆ {null}    ┆ true       ┆ {2,{1.0,null,null,nul │\n",
       " │                        ┆                        ┆           ┆            ┆ l,null,nu…            │\n",
       " └────────────────────────┴────────────────────────┴───────────┴────────────┴───────────────────────┘,\n",
       " Errors(species=None, reactions=shape: (0, 6)\n",
       " ┌───────────┬───────────┬────────────┬───────────────┬────────────────────┬───────────┐\n",
       " │ reactants ┆ products  ┆ reversible ┆ rate_constant ┆ is_missing_species ┆ formula   │\n",
       " │ ---       ┆ ---       ┆ ---        ┆ ---           ┆ ---                ┆ ---       │\n",
       " │ list[str] ┆ list[str] ┆ bool       ┆ struct[15]    ┆ bool               ┆ struct[1] │\n",
       " ╞═══════════╪═══════════╪════════════╪═══════════════╪════════════════════╪═══════════╡\n",
       " └───────────┴───────────┴────────────┴───────────────┴────────────────────┴───────────┘))"
      ]
     },
     "execution_count": 2,
     "metadata": {},
     "output_type": "execute_result"
    }
   ],
   "source": [
    "mech_path = DATA_PATH / mech_file_name\n",
    "# automech.io.chemkin.read.reactions_units(mech_path)\n",
    "automech.io.chemkin.read.reactions(mech_path)"
   ]
  },
  {
   "cell_type": "code",
   "execution_count": null,
   "metadata": {},
   "outputs": [],
   "source": []
  }
 ],
 "metadata": {
  "kernelspec": {
   "display_name": "proto",
   "language": "python",
   "name": "python3"
  },
  "language_info": {
   "codemirror_mode": {
    "name": "ipython",
    "version": 3
   },
   "file_extension": ".py",
   "mimetype": "text/x-python",
   "name": "python",
   "nbconvert_exporter": "python",
   "pygments_lexer": "ipython3",
   "version": "3.11.11"
  }
 },
 "nbformat": 4,
 "nbformat_minor": 2
}
